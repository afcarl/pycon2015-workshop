{
 "cells": [
  {
   "cell_type": "markdown",
   "metadata": {},
   "source": [
    "# Welcome to the Cloudpipe workshop!\n",
    "\n",
    "\n",
    "Overview:\n",
    "\n",
    "* Introductions\n",
    "* Part I: How Cloudpipe works, how to use it\n",
    " * Installation\n",
    " * Demo!\n",
    " * Hands on simple examples\n",
    " * Hands on more complicated example\n",
    "* Part II: Hack on Cloudpipe, how to contribute\n",
    " * Installation instructions\n",
    " * Google group\n",
    "\n"
   ]
  },
  {
   "cell_type": "markdown",
   "metadata": {},
   "source": [
    "## Introductions\n",
    "\n",
    "Hi! We're developers at Rackspace. A few of us have been working on an open source variant of PiCloud/multyvac that is API compatible."
   ]
  },
  {
   "cell_type": "markdown",
   "metadata": {},
   "source": [
    "## Signing up for developer+ on Rackspace\n",
    "\n",
    "\n",
    "<h1 style=\"color:blue\"><a href=\"http://rack.to/pycon2015\">http://rack.to/pycon2015</a></h1>"
   ]
  },
  {
   "cell_type": "markdown",
   "metadata": {},
   "source": [
    "## History Lesson\n",
    "\n",
    "![](https://speakerd.s3.amazonaws.com/presentations/5ba816fa4c9a4f0d960f104f54d83b3f/slide_55.jpg?1423451499)\n",
    "\n",
    "![](https://speakerd.s3.amazonaws.com/presentations/5ba816fa4c9a4f0d960f104f54d83b3f/slide_56.jpg?1423451499)\n",
    "\n",
    "![](https://speakerd.s3.amazonaws.com/presentations/5ba816fa4c9a4f0d960f104f54d83b3f/slide_57.jpg?1423451499)\n",
    "\n",
    "![](https://speakerd.s3.amazonaws.com/presentations/5ba816fa4c9a4f0d960f104f54d83b3f/slide_58.jpg?1423451499)\n",
    "\n",
    "![](https://speakerd.s3.amazonaws.com/presentations/5ba816fa4c9a4f0d960f104f54d83b3f/slide_59.jpg?1423451499)\n",
    "\n",
    "![](https://speakerd.s3.amazonaws.com/presentations/5ba816fa4c9a4f0d960f104f54d83b3f/slide_60.jpg?1423451499)\n",
    "\n",
    "![](https://speakerd.s3.amazonaws.com/presentations/5ba816fa4c9a4f0d960f104f54d83b3f/slide_61.jpg?1423451499)\n",
    "\n",
    "![](https://speakerd.s3.amazonaws.com/presentations/5ba816fa4c9a4f0d960f104f54d83b3f/slide_62.jpg?1423451499)\n",
    "\n",
    "![](https://speakerd.s3.amazonaws.com/presentations/5ba816fa4c9a4f0d960f104f54d83b3f/slide_63.jpg?1423451499)\n",
    "\n",
    "![](https://speakerd.s3.amazonaws.com/presentations/5ba816fa4c9a4f0d960f104f54d83b3f/slide_64.jpg?1423451499)\n",
    "\n",
    "![](https://speakerd.s3.amazonaws.com/presentations/5ba816fa4c9a4f0d960f104f54d83b3f/slide_65.jpg?1423451499)\n",
    "\n",
    "![](https://speakerd.s3.amazonaws.com/presentations/5ba816fa4c9a4f0d960f104f54d83b3f/slide_66.jpg?1423451499)\n",
    "\n"
   ]
  }
 ],
 "metadata": {
  "kernelspec": {
   "display_name": "Python 2",
   "language": "python",
   "name": "python2"
  },
  "language_info": {
   "codemirror_mode": {
    "name": "ipython",
    "version": 2
   },
   "file_extension": ".py",
   "mimetype": "text/x-python",
   "name": "python",
   "nbconvert_exporter": "python",
   "pygments_lexer": "ipython2",
   "version": "2.7.9"
  }
 },
 "nbformat": 4,
 "nbformat_minor": 0
}

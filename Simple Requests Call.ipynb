{
 "cells": [
  {
   "cell_type": "markdown",
   "metadata": {},
   "source": [
    "# Simple Requests Demo\n",
    "\n",
    "This demo of multyvac with cloudpipe requests a remote URL, getting the status code and the server header"
   ]
  },
  {
   "cell_type": "code",
   "execution_count": 1,
   "metadata": {
    "collapsed": true
   },
   "outputs": [],
   "source": [
    "import multyvac\n",
    "import os"
   ]
  },
  {
   "cell_type": "code",
   "execution_count": 3,
   "metadata": {
    "collapsed": false
   },
   "outputs": [],
   "source": [
    "# Pulling the configuration\n",
    "multyvac.config.api_key = os.environ['MULTYVAC_API_KEY'] # Rackspace Username\n",
    "multyvac.config.api_secret_key = os.environ['MULTYVAC_API_SECRET_KEY'] # Rackspace API Key\n",
    "multyvac.config.api_url = \"https://cloudpipe.tmpnb.org/v1\""
   ]
  },
  {
   "cell_type": "code",
   "execution_count": null,
   "metadata": {
    "collapsed": true
   },
   "outputs": [],
   "source": [
    "import requests\n",
    "\n",
    "def status(url):\n",
    "    return requests.get(url).status_code\n",
    "\n",
    "def server_header(url):\n",
    "    return requests.get(url).headers.get('server')"
   ]
  },
  {
   "cell_type": "code",
   "execution_count": 8,
   "metadata": {
    "collapsed": false
   },
   "outputs": [
    {
     "data": {
      "text/plain": [
       "200"
      ]
     },
     "execution_count": 8,
     "metadata": {},
     "output_type": "execute_result"
    }
   ],
   "source": [
    "jid = multyvac.submit(status, \"https://developer.rackspace.com\")\n",
    "multyvac.get(jid).get_result()"
   ]
  },
  {
   "cell_type": "code",
   "execution_count": 10,
   "metadata": {
    "collapsed": false
   },
   "outputs": [
    {
     "data": {
      "text/plain": [
       "'Nintendo WiiOS; Server 1.up'"
      ]
     },
     "execution_count": 10,
     "metadata": {},
     "output_type": "execute_result"
    }
   ],
   "source": [
    "jid = multyvac.submit(server_header, \"https://developer.rackspace.com\")\n",
    "multyvac.get(jid).get_result()"
   ]
  }
 ],
 "metadata": {
  "kernelspec": {
   "display_name": "Python 2",
   "language": "python",
   "name": "python2"
  },
  "language_info": {
   "codemirror_mode": {
    "name": "ipython",
    "version": 2
   },
   "file_extension": ".py",
   "mimetype": "text/x-python",
   "name": "python",
   "nbconvert_exporter": "python",
   "pygments_lexer": "ipython2",
   "version": "2.7.9"
  }
 },
 "nbformat": 4,
 "nbformat_minor": 0
}
